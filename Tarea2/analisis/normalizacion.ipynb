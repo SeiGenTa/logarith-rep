{
 "cells": [
  {
   "cell_type": "code",
   "execution_count": 145,
   "metadata": {},
   "outputs": [],
   "source": [
    "import pandas as pd\n",
    "import numpy as np\n",
    "import matplotlib as mp\n",
    "import csv\n",
    "\n",
    "##----SETTINGS---##\n",
    "debugMode = True"
   ]
  },
  {
   "cell_type": "markdown",
   "metadata": {},
   "source": [
    "# Abrimos archivos"
   ]
  },
  {
   "cell_type": "code",
   "execution_count": 146,
   "metadata": {},
   "outputs": [],
   "source": [
    "data1 = pd.read_csv('resultados1-26.csv', delimiter=\";\")\n",
    "data2 = pd.read_csv('Koptimo.csv', delimiter=\";\")"
   ]
  },
  {
   "cell_type": "code",
   "execution_count": 159,
   "metadata": {},
   "outputs": [
    {
     "name": "stdout",
     "output_type": "stream",
     "text": [
      "{'1': 32.9, '2': 33.0, '3': 33.0, '4': 32.53333333333333, '5': 32.46666666666667, '6': 30.966666666666665, '7': 30.966666666666665, '8': 30.0, '9': 30.0, '10': 29.1, '11': 29.433333333333334, '12': 27.666666666666668, '13': 28.0, '14': 27.0, '15': 27.0, '16': 26.3, '17': 26.766666666666666, '18': 25.0, '19': 25.3, '20': 24.4, '21': 25.0, '22': 24.9, '23': 25.933333333333334, '24': 25.733333333333334, '25': 26.0, '26': 25.7}\n"
     ]
    }
   ],
   "source": [
    "costeProm = {}\n",
    "for i in range(1,data1['Valor n en 2^n'].unique().__len__() + 1):\n",
    "    thisData = data1[data1['Valor n en 2^n'] == i]\n",
    "    costeProm[str(i)] = thisData['Resultado RadixSort'].sum() / thisData.__len__()\n",
    "if(debugMode): print(costeProm)\n",
    "\n",
    "valuesMin = {}\n",
    "for i in range(1,data1['Valor n en 2^n'].unique().__len__() + 1):\n",
    "    thisData = data2[data2['valor del n del universo'] == i]\n",
    "    indice = thisData['tiempo tardado'].idxmin()\n",
    "    valuesMin[str(i)] = thisData.loc[indice] \n",
    "    \n",
    "sumDif = 0\n",
    "for i in valuesMin.keys():\n",
    "    sumDif += valuesMin[i][\"tiempo tardado\"]/costeProm[i]\n",
    "porcentajeDif = sumDif/valuesMin.keys().__len__()\n",
    "\n",
    "newData = data1\n",
    "\n",
    "newData['Resultado RadixSort'] = round(newData['Resultado RadixSort'] * porcentajeDif)\n",
    "newData['Resultado Quicksort'] = round(newData['Resultado Quicksort'] * porcentajeDif)"
   ]
  },
  {
   "cell_type": "code",
   "execution_count": 160,
   "metadata": {},
   "outputs": [
    {
     "data": {
      "text/html": [
       "<div>\n",
       "<style scoped>\n",
       "    .dataframe tbody tr th:only-of-type {\n",
       "        vertical-align: middle;\n",
       "    }\n",
       "\n",
       "    .dataframe tbody tr th {\n",
       "        vertical-align: top;\n",
       "    }\n",
       "\n",
       "    .dataframe thead th {\n",
       "        text-align: right;\n",
       "    }\n",
       "</style>\n",
       "<table border=\"1\" class=\"dataframe\">\n",
       "  <thead>\n",
       "    <tr style=\"text-align: right;\">\n",
       "      <th></th>\n",
       "      <th>Resultado Quicksort</th>\n",
       "      <th>Resultado RadixSort</th>\n",
       "      <th>Valor n en 2^n</th>\n",
       "      <th>n° prueba</th>\n",
       "      <th>valor k radixsort</th>\n",
       "    </tr>\n",
       "  </thead>\n",
       "  <tbody>\n",
       "    <tr>\n",
       "      <th>0</th>\n",
       "      <td>2.0</td>\n",
       "      <td>33.0</td>\n",
       "      <td>1</td>\n",
       "      <td>1</td>\n",
       "      <td>1</td>\n",
       "    </tr>\n",
       "    <tr>\n",
       "      <th>1</th>\n",
       "      <td>2.0</td>\n",
       "      <td>33.0</td>\n",
       "      <td>1</td>\n",
       "      <td>2</td>\n",
       "      <td>1</td>\n",
       "    </tr>\n",
       "    <tr>\n",
       "      <th>2</th>\n",
       "      <td>2.0</td>\n",
       "      <td>32.0</td>\n",
       "      <td>1</td>\n",
       "      <td>4</td>\n",
       "      <td>1</td>\n",
       "    </tr>\n",
       "    <tr>\n",
       "      <th>3</th>\n",
       "      <td>2.0</td>\n",
       "      <td>33.0</td>\n",
       "      <td>1</td>\n",
       "      <td>3</td>\n",
       "      <td>1</td>\n",
       "    </tr>\n",
       "    <tr>\n",
       "      <th>4</th>\n",
       "      <td>2.0</td>\n",
       "      <td>33.0</td>\n",
       "      <td>1</td>\n",
       "      <td>6</td>\n",
       "      <td>1</td>\n",
       "    </tr>\n",
       "    <tr>\n",
       "      <th>...</th>\n",
       "      <td>...</td>\n",
       "      <td>...</td>\n",
       "      <td>...</td>\n",
       "      <td>...</td>\n",
       "      <td>...</td>\n",
       "    </tr>\n",
       "    <tr>\n",
       "      <th>775</th>\n",
       "      <td>488.0</td>\n",
       "      <td>26.0</td>\n",
       "      <td>26</td>\n",
       "      <td>26</td>\n",
       "      <td>13</td>\n",
       "    </tr>\n",
       "    <tr>\n",
       "      <th>776</th>\n",
       "      <td>488.0</td>\n",
       "      <td>24.0</td>\n",
       "      <td>26</td>\n",
       "      <td>27</td>\n",
       "      <td>13</td>\n",
       "    </tr>\n",
       "    <tr>\n",
       "      <th>777</th>\n",
       "      <td>487.0</td>\n",
       "      <td>25.0</td>\n",
       "      <td>26</td>\n",
       "      <td>28</td>\n",
       "      <td>13</td>\n",
       "    </tr>\n",
       "    <tr>\n",
       "      <th>778</th>\n",
       "      <td>487.0</td>\n",
       "      <td>26.0</td>\n",
       "      <td>26</td>\n",
       "      <td>29</td>\n",
       "      <td>13</td>\n",
       "    </tr>\n",
       "    <tr>\n",
       "      <th>779</th>\n",
       "      <td>488.0</td>\n",
       "      <td>26.0</td>\n",
       "      <td>26</td>\n",
       "      <td>30</td>\n",
       "      <td>13</td>\n",
       "    </tr>\n",
       "  </tbody>\n",
       "</table>\n",
       "<p>780 rows × 5 columns</p>\n",
       "</div>"
      ],
      "text/plain": [
       "     Resultado Quicksort  Resultado RadixSort  Valor n en 2^n  n° prueba  \\\n",
       "0                    2.0                 33.0               1          1   \n",
       "1                    2.0                 33.0               1          2   \n",
       "2                    2.0                 32.0               1          4   \n",
       "3                    2.0                 33.0               1          3   \n",
       "4                    2.0                 33.0               1          6   \n",
       "..                   ...                  ...             ...        ...   \n",
       "775                488.0                 26.0              26         26   \n",
       "776                488.0                 24.0              26         27   \n",
       "777                487.0                 25.0              26         28   \n",
       "778                487.0                 26.0              26         29   \n",
       "779                488.0                 26.0              26         30   \n",
       "\n",
       "     valor k radixsort  \n",
       "0                    1  \n",
       "1                    1  \n",
       "2                    1  \n",
       "3                    1  \n",
       "4                    1  \n",
       "..                 ...  \n",
       "775                 13  \n",
       "776                 13  \n",
       "777                 13  \n",
       "778                 13  \n",
       "779                 13  \n",
       "\n",
       "[780 rows x 5 columns]"
      ]
     },
     "execution_count": 160,
     "metadata": {},
     "output_type": "execute_result"
    }
   ],
   "source": [
    "newData"
   ]
  },
  {
   "cell_type": "code",
   "execution_count": null,
   "metadata": {},
   "outputs": [],
   "source": [
    "newData.to_csv(\"datosNormalizados1.26.csv\", sep=\";\")"
   ]
  }
 ],
 "metadata": {
  "kernelspec": {
   "display_name": ".venv",
   "language": "python",
   "name": "python3"
  },
  "language_info": {
   "codemirror_mode": {
    "name": "ipython",
    "version": 3
   },
   "file_extension": ".py",
   "mimetype": "text/x-python",
   "name": "python",
   "nbconvert_exporter": "python",
   "pygments_lexer": "ipython3",
   "version": "3.10.12"
  }
 },
 "nbformat": 4,
 "nbformat_minor": 2
}
